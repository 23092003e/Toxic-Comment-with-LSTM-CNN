{
 "cells": [
  {
   "cell_type": "code",
   "execution_count": 4,
   "metadata": {},
   "outputs": [],
   "source": [
    "import numpy as np\n",
    "import pandas as pd"
   ]
  },
  {
   "cell_type": "code",
   "execution_count": 5,
   "metadata": {},
   "outputs": [],
   "source": [
    "toxicWordsTrain=pd.read_csv(\"dataset/jigsaw-toxic-comment-classification-challenge/train.csv\").fillna(' ')\n",
    "toxicWordsTest=pd.read_csv(\"dataset/jigsaw-toxic-comment-classification-challenge/test.csv\").fillna(' ')\n",
    "\n",
    "#Class labels\n",
    "list_classes = [\"toxic\", \"severe_toxic\", \"obscene\", \"threat\", \"insult\", \"identity_hate\"]\n",
    "\n",
    "y_train = toxicWordsTrain[list_classes].values\n",
    "x_train = toxicWordsTrain[\"comment_text\"]\n",
    "x_test  = toxicWordsTest[\"comment_text\"]"
   ]
  },
  {
   "cell_type": "code",
   "execution_count": 6,
   "metadata": {},
   "outputs": [],
   "source": [
    "from tensorflow.keras.preprocessing.text import Tokenizer\n",
    "from tensorflow.keras.preprocessing.sequence import pad_sequences\n",
    "\n",
    "# Create tokenizer\n",
    "tokenizer = Tokenizer(num_words=None,\n",
    "                      filters='!\"#$%&()*+,-./:;<=>?@[\\\\]^_`{|}~\\t\\n',\n",
    "                      lower=True,\n",
    "                      split=\" \",\n",
    "                      char_level=False)\n",
    "\n",
    "# Fit and run tokenizer\n",
    "tokenizer.fit_on_texts(list(x_train))\n",
    "tokenized_train = tokenizer.texts_to_sequences(x_train)\n",
    "tokenized_test = tokenizer.texts_to_sequences(x_test)\n",
    "word_index = tokenizer.word_index\n",
    "\n",
    "\n",
    "# Extract variables\n",
    "vocab_size = len(word_index)\n",
    "longest = max(len(seq) for seq in tokenized_train)\n",
    "average = np.mean([len(seq) for seq in tokenized_train])\n",
    "stdev = np.std([len(seq) for seq in tokenized_train])\n",
    "max_len = int(average + stdev * 3)\n"
   ]
  },
  {
   "cell_type": "code",
   "execution_count": 7,
   "metadata": {},
   "outputs": [],
   "source": [
    "# Pad sequences\n",
    "processed_X_train = pad_sequences(tokenized_train, maxlen=max_len, padding='post', truncating='post')\n",
    "processed_X_test = pad_sequences(tokenized_test, maxlen=max_len, padding='post', truncating='post')"
   ]
  },
  {
   "cell_type": "code",
   "execution_count": 8,
   "metadata": {},
   "outputs": [
    {
     "name": "stdout",
     "output_type": "stream",
     "text": [
      "(159571, 371)\n",
      "(159571, 6)\n"
     ]
    }
   ],
   "source": [
    "print(processed_X_train.shape)\n",
    "print(y_train.shape)"
   ]
  },
  {
   "cell_type": "code",
   "execution_count": 9,
   "metadata": {},
   "outputs": [
    {
     "name": "stderr",
     "output_type": "stream",
     "text": [
      "WARNING:absl:Compiled the loaded model, but the compiled metrics have yet to be built. `model.compile_metrics` will be empty until you train or evaluate the model.\n"
     ]
    }
   ],
   "source": [
    "import tensorflow as tf\n",
    "model = tf.keras.models.load_model(\"model.best.hdf5\")"
   ]
  },
  {
   "cell_type": "code",
   "execution_count": 10,
   "metadata": {},
   "outputs": [],
   "source": [
    "\n",
    "import matplotlib.pyplot as plt\n",
    "\n",
    "def create_bar_chart(prediction):\n",
    "    # Prepare data for bar chart\n",
    "    labels = ['Toxic', 'Severe Toxic', 'Obscene', 'Threat', 'Insult', 'Identity Hate']\n",
    "    values = prediction[0]  # Assuming prediction returns probabilities for each category\n",
    "    \n",
    "    colors = ['skyblue', 'lightcoral', 'yellowgreen', 'gold', 'violet', 'orange']\n",
    "    # Create bar chart\n",
    "    plt.figure(figsize=(10, 5))\n",
    "    bars = plt.bar(labels, values, color=colors)\n",
    "    for bar in bars:\n",
    "        yval = bar.get_height()\n",
    "        plt.text(bar.get_x() + bar.get_width()/2, yval, f'{yval * 100:.0f}%', ha='center', va='bottom')\n",
    "    plt.yticks(np.arange(0, 1.1, 0.1), [f'{int(i * 100)}%' for i in np.arange(0, 1.1, 0.1)])\n",
    "    plt.ylabel('Probability')\n",
    "    plt.title('Toxicity Levels')\n",
    "    \n",
    "    # Save the plot to a file\n",
    "    plt.savefig('toxicity_levels.png')\n",
    "    plt.close()\n",
    "\n",
    "    return 'toxicity_levels.png'"
   ]
  },
  {
   "cell_type": "code",
   "execution_count": 11,
   "metadata": {},
   "outputs": [],
   "source": [
    "\n",
    "def toxicity_level(string):\n",
    "    \"\"\"\n",
    "    Return toxicity probability based on inputed string.\n",
    "    \"\"\"\n",
    "    # Process string\n",
    "    new_string = [string]\n",
    "    new_string = tokenizer.texts_to_sequences(new_string)\n",
    "    new_string = pad_sequences(new_string, maxlen=max_len, padding='post', truncating='post')\n",
    "    \n",
    "    # Predict\n",
    "    prediction = model.predict(new_string)\n",
    "    \n",
    "    # Print output\n",
    "    response = f\"Toxicity levels for '{string}': \\n\" \\\n",
    "                f\"Toxic:         {prediction[0][0]:.0%} \\n\" \\\n",
    "                f\"Severe Toxic:  {prediction[0][1]:.0%} \\n\" \\\n",
    "                f\"Obscene:       {prediction[0][2]:.0%} \\n\" \\\n",
    "                f\"Threat:        {prediction[0][3]:.0%} \\n\" \\\n",
    "                f\"Insult:        {prediction[0][4]:.0%} \\n\" \\\n",
    "                f\"Identity Hate: {prediction[0][5]:.0%} \\n\"\n",
    "    \n",
    "    bar_chart_file = create_bar_chart(prediction)\n",
    "\n",
    "    return response, bar_chart_file"
   ]
  },
  {
   "cell_type": "code",
   "execution_count": null,
   "metadata": {},
   "outputs": [],
   "source": [
    "import google.generativeai as genai\n",
    "\n",
    "GOOGLE_API_KEY = \"\"\n",
    "genai.configure(api_key=GOOGLE_API_KEY)\n",
    "geminibot = genai.GenerativeModel('gemini-1.5-flash')"
   ]
  },
  {
   "cell_type": "code",
   "execution_count": null,
   "metadata": {},
   "outputs": [],
   "source": [
    "def statistic_evaluate(stat):\n",
    "    question = 'Comment on this statistic: ' + stat\n",
    "    response = geminibot.generate_content(question)\n",
    "    response.resolve()\n",
    "    \n",
    "    return [{\"role\": \"assistant\", \"content\": response.text}]"
   ]
  },
  {
   "cell_type": "code",
   "execution_count": 14,
   "metadata": {},
   "outputs": [
    {
     "name": "stdout",
     "output_type": "stream",
     "text": [
      "Running on local URL:  http://127.0.0.1:7860\n",
      "Running on public URL: https://2c0eefb425b9311143.gradio.live\n",
      "\n",
      "This share link expires in 72 hours. For free permanent hosting and GPU upgrades, run `gradio deploy` from Terminal to deploy to Spaces (https://huggingface.co/spaces)\n"
     ]
    },
    {
     "data": {
      "text/html": [
       "<div><iframe src=\"https://2c0eefb425b9311143.gradio.live\" width=\"100%\" height=\"500\" allow=\"autoplay; camera; microphone; clipboard-read; clipboard-write;\" frameborder=\"0\" allowfullscreen></iframe></div>"
      ],
      "text/plain": [
       "<IPython.core.display.HTML object>"
      ]
     },
     "metadata": {},
     "output_type": "display_data"
    },
    {
     "data": {
      "text/plain": []
     },
     "execution_count": 14,
     "metadata": {},
     "output_type": "execute_result"
    },
    {
     "name": "stdout",
     "output_type": "stream",
     "text": [
      "\u001b[1m1/1\u001b[0m \u001b[32m━━━━━━━━━━━━━━━━━━━━\u001b[0m\u001b[37m\u001b[0m \u001b[1m0s\u001b[0m 349ms/step\n",
      "\u001b[1m1/1\u001b[0m \u001b[32m━━━━━━━━━━━━━━━━━━━━\u001b[0m\u001b[37m\u001b[0m \u001b[1m0s\u001b[0m 58ms/step\n",
      "\u001b[1m1/1\u001b[0m \u001b[32m━━━━━━━━━━━━━━━━━━━━\u001b[0m\u001b[37m\u001b[0m \u001b[1m0s\u001b[0m 42ms/step\n",
      "\u001b[1m1/1\u001b[0m \u001b[32m━━━━━━━━━━━━━━━━━━━━\u001b[0m\u001b[37m\u001b[0m \u001b[1m0s\u001b[0m 38ms/step\n"
     ]
    }
   ],
   "source": [
    "import gradio as gr\n",
    "\n",
    "with gr.Blocks() as demo:\n",
    "\n",
    "    textbox = gr.Textbox(label=\"Toxic Comment Detection for:\", lines=2, placeholder=\"Enter your comment here...\")\n",
    "    statistic_output = gr.Textbox(label=\"Statistic\", lines=3)\n",
    "    bar_chart = gr.Image(label=\"Bar Chart\", type=\"filepath\")\n",
    "\n",
    "    interface = gr.Interface(\n",
    "    fn = toxicity_level,\n",
    "    inputs = textbox, #gr.Textbox(label=\"Toxic Comment Detection for:\", lines=2, placeholder=\"Enter your comment here...\"),\n",
    "    outputs = [statistic_output, bar_chart], #[gr.Textbox(label=\"Statistic\", lines=3), gr.Image(label=\"Bar Chart\", type=\"filepath\")],\n",
    "    title = \"Toxic Comment Detection\",\n",
    "    description = \"Enter a comment to check if it's toxic or not.\"\n",
    "    )\n",
    "\n",
    "    chatbot = gr.Chatbot(\n",
    "        type = \"messages\"\n",
    "    )\n",
    "    button = gr.Button(\"Evaluate the result\")\n",
    "    button.click(statistic_evaluate, inputs=statistic_output, outputs=chatbot)\n",
    "\n",
    "# Launch the interface\n",
    "demo.launch(share=True)"
   ]
  },
  {
   "cell_type": "code",
   "execution_count": null,
   "metadata": {},
   "outputs": [],
   "source": []
  }
 ],
 "metadata": {
  "kernelspec": {
   "display_name": "Python 3",
   "language": "python",
   "name": "python3"
  },
  "language_info": {
   "codemirror_mode": {
    "name": "ipython",
    "version": 3
   },
   "file_extension": ".py",
   "mimetype": "text/x-python",
   "name": "python",
   "nbconvert_exporter": "python",
   "pygments_lexer": "ipython3",
   "version": "3.9.13"
  }
 },
 "nbformat": 4,
 "nbformat_minor": 2
}
