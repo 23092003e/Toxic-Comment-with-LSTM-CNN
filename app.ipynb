{
 "cells": [
  {
   "cell_type": "code",
   "execution_count": 29,
   "metadata": {},
   "outputs": [],
   "source": [
    "import numpy as np\n",
    "import pandas as pd"
   ]
  },
  {
   "cell_type": "code",
   "execution_count": 30,
   "metadata": {},
   "outputs": [],
   "source": [
    "toxicWordsTrain=pd.read_csv(\"D:/Data Science/Machine Learning/Toxic Comments with LSTM-CNN/Toxic-Comment-with-LSTM-CNN/dataset/jigsaw-toxic-comment-classification-challenge/train.csv\").fillna(' ')\n",
    "toxicWordsTest=pd.read_csv(\"D:/Data Science/Machine Learning/Toxic Comments with LSTM-CNN/Toxic-Comment-with-LSTM-CNN/dataset/jigsaw-toxic-comment-classification-challenge/test.csv\").fillna(' ')\n",
    "\n",
    "#Class labels\n",
    "list_classes = [\"toxic\", \"severe_toxic\", \"obscene\", \"threat\", \"insult\", \"identity_hate\"]\n",
    "\n",
    "y_train = toxicWordsTrain[list_classes].values\n",
    "x_train = toxicWordsTrain[\"comment_text\"]\n",
    "x_test  = toxicWordsTest[\"comment_text\"]"
   ]
  },
  {
   "cell_type": "code",
   "execution_count": 31,
   "metadata": {},
   "outputs": [],
   "source": [
    "from tensorflow.keras.preprocessing.text import Tokenizer\n",
    "from tensorflow.keras.preprocessing.sequence import pad_sequences\n",
    "\n",
    "# Create tokenizer\n",
    "tokenizer = Tokenizer(num_words=None,\n",
    "                      filters='!\"#$%&()*+,-./:;<=>?@[\\\\]^_`{|}~\\t\\n',\n",
    "                      lower=True,\n",
    "                      split=\" \",\n",
    "                      char_level=False)\n",
    "\n",
    "# Fit and run tokenizer\n",
    "tokenizer.fit_on_texts(list(x_train))\n",
    "tokenized_train = tokenizer.texts_to_sequences(x_train)\n",
    "tokenized_test = tokenizer.texts_to_sequences(x_test)\n",
    "word_index = tokenizer.word_index\n",
    "\n",
    "\n",
    "# Extract variables\n",
    "vocab_size = len(word_index)\n",
    "longest = max(len(seq) for seq in tokenized_train)\n",
    "average = np.mean([len(seq) for seq in tokenized_train])\n",
    "stdev = np.std([len(seq) for seq in tokenized_train])\n",
    "max_len = int(average + stdev * 3)\n"
   ]
  },
  {
   "cell_type": "code",
   "execution_count": 32,
   "metadata": {},
   "outputs": [],
   "source": [
    "# Pad sequences\n",
    "processed_X_train = pad_sequences(tokenized_train, maxlen=max_len, padding='post', truncating='post')\n",
    "processed_X_test = pad_sequences(tokenized_test, maxlen=max_len, padding='post', truncating='post')"
   ]
  },
  {
   "cell_type": "code",
   "execution_count": 33,
   "metadata": {},
   "outputs": [
    {
     "name": "stdout",
     "output_type": "stream",
     "text": [
      "(159571, 371)\n",
      "(159571, 6)\n"
     ]
    }
   ],
   "source": [
    "print(processed_X_train.shape)\n",
    "print(y_train.shape)"
   ]
  },
  {
   "cell_type": "code",
   "execution_count": 34,
   "metadata": {},
   "outputs": [
    {
     "name": "stderr",
     "output_type": "stream",
     "text": [
      "WARNING:absl:Compiled the loaded model, but the compiled metrics have yet to be built. `model.compile_metrics` will be empty until you train or evaluate the model.\n"
     ]
    }
   ],
   "source": [
    "import tensorflow as tf\n",
    "model = tf.keras.models.load_model(\"D:/Data Science/Machine Learning/Toxic Comments with LSTM-CNN/Toxic-Comment-with-LSTM-CNN/model.best.hdf5\")"
   ]
  },
  {
   "cell_type": "code",
   "execution_count": 35,
   "metadata": {},
   "outputs": [],
   "source": [
    "import gradio as gr"
   ]
  },
  {
   "cell_type": "code",
   "execution_count": 38,
   "metadata": {},
   "outputs": [],
   "source": [
    "from flask import Flask, request, jsonify\n",
    "import nest_asyncio\n",
    "\n",
    "nest_asyncio.apply()\n",
    "\n",
    "app = Flask(__name__)\n",
    "\n",
    "@app.route('/predict', methods=['POST'])\n",
    "def predict():\n",
    "    # Lấy dữ liệu từ yêu cầu POST\n",
    "    data = request.get_json()\n",
    "    if 'text' not in data:\n",
    "        return jsonify({'error': 'Missing \"text\" field'}), 400\n",
    "    \n",
    "    text = data['text']\n",
    "    \n",
    "    # Xử lý và dự đoán\n",
    "    result = toxicity_level(text)\n",
    "    \n",
    "    # Trả kết quả dưới dạng JSON\n",
    "    return jsonify(result)\n",
    "\n",
    "def toxicity_level(string):\n",
    "    \"\"\"\n",
    "    Return toxicity probability based on input string.\n",
    "    \"\"\"\n",
    "    new_string = [string]\n",
    "    new_string = tokenizer.texts_to_sequences(new_string)\n",
    "    new_string = pad_sequences(new_string, maxlen = max_len, padding = 'post', truncating = 'post')\n",
    "    # Predict\n",
    "    prediction = model.predict(new_string)[0]   \n",
    "     \n",
    "    # Trả kết quả\n",
    "    labels = ['Toxic', 'Severe Toxic', 'Obscene', 'Threat', 'Insult', 'Identity Hate']\n",
    "    result = {label: f\"{prob:.0%}\" for label, prob in zip(labels, prediction)}\n",
    "    return result\n"
   ]
  },
  {
   "cell_type": "code",
   "execution_count": null,
   "metadata": {},
   "outputs": [],
   "source": [
    "interface = gr.Interface(\n",
    "    fn=toxicity_level,\n",
    "    inputs=gr.Textbox(lines=2, placeholder=\"Nhập một chuỗi để kiểm tra mức độ độc hại...\"),\n",
    "    outputs=gr.Label(num_top_classes=6),\n",
    "    title=\"Toxicity Comment Prediction\",\n",
    "    description=\"Nhập một bình luận và kiểm tra các mức độ độc hại theo các danh mục khác nhau.\"\n",
    ")"
   ]
  },
  {
   "cell_type": "code",
   "execution_count": null,
   "metadata": {},
   "outputs": [],
   "source": []
  },
  {
   "cell_type": "code",
   "execution_count": null,
   "metadata": {},
   "outputs": [],
   "source": []
  }
 ],
 "metadata": {
  "kernelspec": {
   "display_name": "Python 3",
   "language": "python",
   "name": "python3"
  },
  "language_info": {
   "codemirror_mode": {
    "name": "ipython",
    "version": 3
   },
   "file_extension": ".py",
   "mimetype": "text/x-python",
   "name": "python",
   "nbconvert_exporter": "python",
   "pygments_lexer": "ipython3",
   "version": "3.9.13"
  }
 },
 "nbformat": 4,
 "nbformat_minor": 2
}
